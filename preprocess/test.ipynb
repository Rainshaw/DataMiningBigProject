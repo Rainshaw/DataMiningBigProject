{
 "cells": [
  {
   "cell_type": "code",
   "execution_count": 1,
   "metadata": {
    "collapsed": true
   },
   "outputs": [],
   "source": [
    "import os\n",
    "import pandas as pd"
   ]
  },
  {
   "cell_type": "code",
   "execution_count": 10,
   "outputs": [],
   "source": [
    "file_path = os.path.join(os.path.dirname(os.path.abspath('')), 'data', '2-drop-fill-na.csv')\n",
    "df = pd.read_csv(file_path, parse_dates=[\"page_publish_time\"], na_filter=False,\n",
    "                 dtype={\n",
    "                     \"page_url\": str,\n",
    "                     \"pos_dsec\": str,\n",
    "                     \"pos_count\": float,\n",
    "                     \"page_province\": str,\n",
    "                     \"pos_class\": str,\n",
    "                     \"pos_industry\": str,\n",
    "                     \"site_name\": str,\n",
    "                     \"pos_age\": float,\n",
    "                     \"pos_name\": str,\n",
    "                     \"pos_welfare\": str,\n",
    "                     \"page_city\": str,\n",
    "                     \"old_industry\": str,\n",
    "                     \"deliver_count\": float,\n",
    "                     \"pos_salary\": str,\n",
    "                     \"com_name\": str,\n",
    "                     \"pos_education\": str,\n",
    "                     \"pos_experience\": str,\n",
    "                     \"read_count\": float,\n",
    "                 })"
   ],
   "metadata": {
    "collapsed": false,
    "pycharm": {
     "name": "#%%\n"
    }
   }
  },
  {
   "cell_type": "code",
   "execution_count": 14,
   "outputs": [
    {
     "name": "stdout",
     "output_type": "stream",
     "text": [
      "<class 'pandas.core.frame.DataFrame'>\n",
      "Int64Index: 1280357 entries, 0 to 3914542\n",
      "Data columns (total 19 columns):\n",
      " #   Column             Non-Null Count    Dtype         \n",
      "---  ------             --------------    -----         \n",
      " 0   page_url           1280357 non-null  object        \n",
      " 1   pos_desc           1280357 non-null  object        \n",
      " 2   page_publish_time  1280357 non-null  datetime64[ns]\n",
      " 3   pos_count          1280357 non-null  float64       \n",
      " 4   page_province      1280357 non-null  object        \n",
      " 5   pos_class          1280357 non-null  object        \n",
      " 6   pos_industry       1280357 non-null  object        \n",
      " 7   site_name          1280357 non-null  object        \n",
      " 8   pos_age            1280357 non-null  float64       \n",
      " 9   pos_name           1280357 non-null  object        \n",
      " 10  pos_welfare        1280357 non-null  object        \n",
      " 11  page_city          1280357 non-null  object        \n",
      " 12  old_industry       1280357 non-null  object        \n",
      " 13  deliver_count      1280357 non-null  float64       \n",
      " 14  pos_salary         1280357 non-null  object        \n",
      " 15  com_name           1280357 non-null  object        \n",
      " 16  pos_education      1280357 non-null  object        \n",
      " 17  pos_experience     1280357 non-null  object        \n",
      " 18  read_count         1280357 non-null  float64       \n",
      "dtypes: datetime64[ns](1), float64(4), object(14)\n",
      "memory usage: 195.4+ MB\n"
     ]
    }
   ],
   "source": [
    "df[df['site_name'].str.contains(\"智联招聘\")].info()"
   ],
   "metadata": {
    "collapsed": false,
    "pycharm": {
     "name": "#%%\n"
    }
   }
  },
  {
   "cell_type": "code",
   "execution_count": 15,
   "outputs": [
    {
     "ename": "AttributeError",
     "evalue": "'DataFrame' object has no attribute 'frequency'",
     "output_type": "error",
     "traceback": [
      "\u001B[1;31m---------------------------------------------------------------------------\u001B[0m",
      "\u001B[1;31mAttributeError\u001B[0m                            Traceback (most recent call last)",
      "\u001B[1;32m<ipython-input-15-9e7583f86d2e>\u001B[0m in \u001B[0;36m<module>\u001B[1;34m\u001B[0m\n\u001B[0;32m      2\u001B[0m \u001B[1;32mfrom\u001B[0m \u001B[0mpyecharts\u001B[0m \u001B[1;32mimport\u001B[0m \u001B[0moptions\u001B[0m \u001B[1;32mas\u001B[0m \u001B[0mopts\u001B[0m\u001B[1;33m\u001B[0m\u001B[1;33m\u001B[0m\u001B[0m\n\u001B[0;32m      3\u001B[0m \u001B[0mx\u001B[0m \u001B[1;33m=\u001B[0m \u001B[0mlist\u001B[0m\u001B[1;33m(\u001B[0m\u001B[0mdf\u001B[0m\u001B[1;33m.\u001B[0m\u001B[0mpos_education\u001B[0m\u001B[1;33m.\u001B[0m\u001B[0mvalues\u001B[0m\u001B[1;33m)\u001B[0m\u001B[1;33m\u001B[0m\u001B[1;33m\u001B[0m\u001B[0m\n\u001B[1;32m----> 4\u001B[1;33m \u001B[0my\u001B[0m \u001B[1;33m=\u001B[0m \u001B[1;33m[\u001B[0m\u001B[0mint\u001B[0m\u001B[1;33m(\u001B[0m\u001B[0mx\u001B[0m\u001B[1;33m)\u001B[0m \u001B[1;32mfor\u001B[0m \u001B[0mx\u001B[0m \u001B[1;32min\u001B[0m \u001B[0mlist\u001B[0m\u001B[1;33m(\u001B[0m\u001B[0mdf\u001B[0m\u001B[1;33m.\u001B[0m\u001B[0mfrequency\u001B[0m\u001B[1;33m.\u001B[0m\u001B[0mvalues\u001B[0m\u001B[1;33m)\u001B[0m\u001B[1;33m]\u001B[0m\u001B[1;33m\u001B[0m\u001B[1;33m\u001B[0m\u001B[0m\n\u001B[0m\u001B[0;32m      5\u001B[0m \u001B[0mbar\u001B[0m \u001B[1;33m=\u001B[0m \u001B[0mBar\u001B[0m\u001B[1;33m(\u001B[0m\u001B[1;33m)\u001B[0m\u001B[1;33m\u001B[0m\u001B[1;33m\u001B[0m\u001B[0m\n\u001B[0;32m      6\u001B[0m \u001B[0mbar\u001B[0m\u001B[1;33m.\u001B[0m\u001B[0madd_xaxis\u001B[0m\u001B[1;33m(\u001B[0m\u001B[0mx\u001B[0m\u001B[1;33m)\u001B[0m\u001B[1;33m\u001B[0m\u001B[1;33m\u001B[0m\u001B[0m\n",
      "\u001B[1;32mc:\\users\\rxg\\desktop\\code\\dataminingbigproject\\.venv\\lib\\site-packages\\pandas\\core\\generic.py\u001B[0m in \u001B[0;36m__getattr__\u001B[1;34m(self, name)\u001B[0m\n\u001B[0;32m   5463\u001B[0m             \u001B[1;32mif\u001B[0m \u001B[0mself\u001B[0m\u001B[1;33m.\u001B[0m\u001B[0m_info_axis\u001B[0m\u001B[1;33m.\u001B[0m\u001B[0m_can_hold_identifiers_and_holds_name\u001B[0m\u001B[1;33m(\u001B[0m\u001B[0mname\u001B[0m\u001B[1;33m)\u001B[0m\u001B[1;33m:\u001B[0m\u001B[1;33m\u001B[0m\u001B[1;33m\u001B[0m\u001B[0m\n\u001B[0;32m   5464\u001B[0m                 \u001B[1;32mreturn\u001B[0m \u001B[0mself\u001B[0m\u001B[1;33m[\u001B[0m\u001B[0mname\u001B[0m\u001B[1;33m]\u001B[0m\u001B[1;33m\u001B[0m\u001B[1;33m\u001B[0m\u001B[0m\n\u001B[1;32m-> 5465\u001B[1;33m             \u001B[1;32mreturn\u001B[0m \u001B[0mobject\u001B[0m\u001B[1;33m.\u001B[0m\u001B[0m__getattribute__\u001B[0m\u001B[1;33m(\u001B[0m\u001B[0mself\u001B[0m\u001B[1;33m,\u001B[0m \u001B[0mname\u001B[0m\u001B[1;33m)\u001B[0m\u001B[1;33m\u001B[0m\u001B[1;33m\u001B[0m\u001B[0m\n\u001B[0m\u001B[0;32m   5466\u001B[0m \u001B[1;33m\u001B[0m\u001B[0m\n\u001B[0;32m   5467\u001B[0m     \u001B[1;32mdef\u001B[0m \u001B[0m__setattr__\u001B[0m\u001B[1;33m(\u001B[0m\u001B[0mself\u001B[0m\u001B[1;33m,\u001B[0m \u001B[0mname\u001B[0m\u001B[1;33m:\u001B[0m \u001B[0mstr\u001B[0m\u001B[1;33m,\u001B[0m \u001B[0mvalue\u001B[0m\u001B[1;33m)\u001B[0m \u001B[1;33m->\u001B[0m \u001B[1;32mNone\u001B[0m\u001B[1;33m:\u001B[0m\u001B[1;33m\u001B[0m\u001B[1;33m\u001B[0m\u001B[0m\n",
      "\u001B[1;31mAttributeError\u001B[0m: 'DataFrame' object has no attribute 'frequency'"
     ]
    }
   ],
   "source": [
    "from pyecharts.charts import Bar\n",
    "from pyecharts import options as opts\n",
    "x = list(df.pos_education.values)\n",
    "y = [int(x) for x in list(df.frequency.values)]\n",
    "bar = Bar()\n",
    "bar.add_xaxis(x)\n",
    "bar.add_yaxis(\"\",y,color= \"#f899dc\")\n",
    "bar.set_global_opts(xaxis_opts=opts.AxisOpts(axislabel_opts=opts.LabelOpts(rotate=-45)))\n"
   ],
   "metadata": {
    "collapsed": false,
    "pycharm": {
     "name": "#%%\n"
    }
   }
  }
 ],
 "metadata": {
  "kernelspec": {
   "display_name": "Python 3",
   "language": "python",
   "name": "python3"
  },
  "language_info": {
   "codemirror_mode": {
    "name": "ipython",
    "version": 2
   },
   "file_extension": ".py",
   "mimetype": "text/x-python",
   "name": "python",
   "nbconvert_exporter": "python",
   "pygments_lexer": "ipython2",
   "version": "2.7.6"
  }
 },
 "nbformat": 4,
 "nbformat_minor": 0
}