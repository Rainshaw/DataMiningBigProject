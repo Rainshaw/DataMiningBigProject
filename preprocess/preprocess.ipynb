{
 "cells": [
  {
   "cell_type": "code",
   "execution_count": 6,
   "metadata": {},
   "outputs": [],
   "source": [
    "import os\n",
    "import pandas as pd"
   ]
  },
  {
   "cell_type": "code",
   "execution_count": 9,
   "metadata": {
    "pycharm": {
     "name": "#%%\n"
    }
   },
   "outputs": [],
   "source": [
    "dir_path = os.path.join(os.path.dirname(os.path.abspath('')), 'data', '互联网招聘网站数据-20190109')\n",
    "files = ['1545993937965.csv', '1545995178836.csv', '1545994719214.csv', '1545993524166.csv', '1545994117111.csv',\n",
    "         '1545993734962.csv', '1545995482689.csv', '1545994520923.csv', '1545993316117.csv', '1545996463690.csv',\n",
    "         '1545995875667.csv', '1545996273574.csv', '1545995679248.csv', '1545993098203.csv', '1545995371123.csv',\n",
    "         '1545996077068.csv', '1545994918682.csv', '1545994993854.csv', '1545994322721.csv']\n",
    "files_path = [os.path.join(dir_path, file) for file in files]"
   ]
  },
  {
   "cell_type": "code",
   "execution_count": 10,
   "metadata": {
    "pycharm": {
     "name": "#%%\n"
    }
   },
   "outputs": [],
   "source": [
    "for file_path in files_path:\n",
    "    with open(file_path, 'rb') as f, open(file_path.replace('互联网招聘网站数据-20190109/', ''), 'wb') as f1:\n",
    "        line = f.readline()\n",
    "        cnt = line.count(b',')\n",
    "        while line:\n",
    "            if line.count(b',') != cnt:\n",
    "                line = line.strip(b'\\n')\n",
    "                line += f.readline()\n",
    "                continue\n",
    "            f1.write(line)\n",
    "            line = f.readline().replace(b'\"', b'')"
   ]
  },
  {
   "cell_type": "code",
   "execution_count": 26,
   "metadata": {},
   "outputs": [
    {
     "name": "stderr",
     "output_type": "stream",
     "text": [
      "/Users/rainshaw/Desktop/Code/DataMiningBigProject/.venv/lib/python3.9/site-packages/IPython/core/interactiveshell.py:3169: DtypeWarning: Columns (4,12) have mixed types.Specify dtype option on import or set low_memory=False.\n",
      "  has_raised = await self.run_ast_nodes(code_ast.body, cell_name,\n"
     ]
    },
    {
     "data": {
      "text/plain": "(891833, 21)"
     },
     "execution_count": 26,
     "metadata": {},
     "output_type": "execute_result"
    }
   ],
   "source": [
    "dir_path = os.path.join(os.path.dirname(os.path.abspath(\"\")), 'data')\n",
    "files_path = [os.path.join(dir_path, file) for file in files]\n",
    "\n",
    "files_path = files_path[0:2]\n",
    "\n",
    "df = pd.read_csv(files_path[0], encoding='gb18030', parse_dates=['page_publish_time'])\n",
    "\n",
    "# df = df.append(pd.read_csv(files_path[1], encoding='gb18030', parse_dates=['page_publish_time']), ignore_index=False)\n",
    "\n",
    "df.shape\n",
    "\n",
    "# for file_path in files_path:\n",
    "#     print(file_path)\n",
    "#     df = pd.read_csv(file_path, ',', encoding='gb18030', parse_dates=[\"page_publish_time\"],\n",
    "#                      dtype={\n",
    "#                          \"page_url\": str,\n",
    "#                          \"pos_desc\": str,\n",
    "#                          # \"page_publish_time\": date,\n",
    "#                          \"pos_count\": str,\n",
    "#                          \"page_province\": str,\n",
    "#                          \"pos_class\": str,\n",
    "#                          \"pos_industry\": str,\n",
    "#                          \"site_name\": str,\n",
    "#                          \"pos_age\": str,\n",
    "#                          \"pos_name\": str,\n",
    "#                          \"pos_welfare\": str,\n",
    "#                          \"_id\": str,\n",
    "#                          \"page_city\": str,\n",
    "#                          \"old_industry\": str,\n",
    "#                          \"deliver_count\": str,\n",
    "#                          \"pos_salary\": str,\n",
    "#                          \"com_name\": str,\n",
    "#                          \"pos_education\": str,\n",
    "#                          \"pos_experience\": str,\n",
    "#                          \"read_count\": str\n",
    "#                      })\n",
    "#     print(df.shape)\n",
    "#     print(df.info())\n",
    "#     df.drop_duplicates(subset=['_id'],keep='first',inplace=True)\n",
    "#     print(df.shape)\n",
    "#     print(df.info())"
   ]
  },
  {
   "cell_type": "code",
   "execution_count": 33,
   "metadata": {
    "pycharm": {
     "name": "#%%\n"
    }
   },
   "outputs": [
    {
     "name": "stdout",
     "output_type": "stream",
     "text": [
      "31212\n"
     ]
    }
   ],
   "source": [
    "cnt = 0\n",
    "for i in df.duplicated(subset=['page_url']):\n",
    "    if i:\n",
    "        print(cnt)\n",
    "        break\n",
    "    cnt += 1\n"
   ]
  },
  {
   "cell_type": "code",
   "execution_count": 41,
   "outputs": [
    {
     "data": {
      "text/plain": "'苍老师叫你来上班——————————3400元/月免费包吃住招聘新开大型日本料理工作人员长期工（周三开始面试）  【工作岗位】姿客 前台 服务生 （洗碗啊姨年龄40~50岁都可以）等等 岗位可以自由选择，  【工作时间】每天上9小时。长白班 具体上班时间看排班，月休4天  【工资待遇】免费包吃住，宿舍有空调Wifi 洗衣机。热水器 等等应有尽有。工资每月15号发上月工资，  【工作要求】男女不限 18~30周岁  【工作地址】番禺南村万博地铁附近'"
     },
     "execution_count": 41,
     "metadata": {},
     "output_type": "execute_result"
    }
   ],
   "source": [
    "df.loc[31212]['pos_desc']"
   ],
   "metadata": {
    "collapsed": false,
    "pycharm": {
     "name": "#%%\n"
    }
   }
  },
  {
   "cell_type": "code",
   "execution_count": 42,
   "outputs": [
    {
     "data": {
      "text/plain": "'苍老师叫你来上班——————————3400元/月免费包吃住招聘新开大型日本料理工作人员长期工（周三开始面试）  【工作岗位】姿客 前台 服务生 （洗碗啊姨年龄40~50岁都可以）等等 岗位可以自由选择，  【工作时间】每天上9小时。长白班 具体上班时间看排班，月休4天  【工资待遇】免费包吃住，宿舍有空调Wifi 洗衣机。热水器 等等应有尽有。工资每月15号发上月工资，  【工作要求】男女不限 18~30周岁  【工作地址】番禺南村万博地铁附近'"
     },
     "execution_count": 42,
     "metadata": {},
     "output_type": "execute_result"
    }
   ],
   "source": [
    "df.loc[29824]['pos_desc']"
   ],
   "metadata": {
    "collapsed": false,
    "pycharm": {
     "name": "#%%\n"
    }
   }
  }
 ],
 "metadata": {
  "kernelspec": {
   "display_name": "Python 3",
   "language": "python",
   "name": "python3"
  },
  "language_info": {
   "codemirror_mode": {
    "name": "ipython",
    "version": 3
   },
   "file_extension": ".py",
   "mimetype": "text/x-python",
   "name": "python",
   "nbconvert_exporter": "python",
   "pygments_lexer": "ipython3",
   "version": "3.9.5"
  }
 },
 "nbformat": 4,
 "nbformat_minor": 1
}